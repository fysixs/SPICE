{
  "nbformat": 4,
  "nbformat_minor": 0,
  "metadata": {
    "colab": {
      "name": "SPICEOrbitalAnalysis.ipynb",
      "provenance": [],
      "collapsed_sections": [],
      "toc_visible": true,
      "include_colab_link": true
    },
    "kernelspec": {
      "display_name": "Python 3",
      "name": "python3"
    },
    "widgets": {
      "application/vnd.jupyter.widget-state+json": {
        "f182c8459deb4ff6a3ad6bf5a62193e2": {
          "model_module": "@jupyter-widgets/controls",
          "model_name": "GridBoxModel",
          "state": {
            "_view_name": "GridBoxView",
            "_dom_classes": [],
            "_model_name": "GridBoxModel",
            "_view_module": "@jupyter-widgets/controls",
            "_model_module_version": "1.5.0",
            "_view_count": null,
            "_view_module_version": "1.5.0",
            "box_style": "",
            "layout": "IPY_MODEL_cba8bf1ba3ec4353bd6160a92af94a87",
            "_model_module": "@jupyter-widgets/controls",
            "children": [
              "IPY_MODEL_f514f7f0910d447bab094db9bab37d93",
              "IPY_MODEL_1f464a9ecdf24ebabe1a3ef17571db83",
              "IPY_MODEL_a61add2a8f3e4485a7bc1e03776b69a4",
              "IPY_MODEL_7429eb691bb241ef9d965981c50f6e6e"
            ]
          }
        },
        "193fd71b5cfa42bab126587679781baa": {
          "model_module": "@jupyter-widgets/output",
          "model_name": "OutputModel",
          "state": {
            "_view_name": "OutputView",
            "msg_id": "",
            "_dom_classes": [],
            "_model_name": "OutputModel",
            "outputs": [],
            "_view_module": "@jupyter-widgets/output",
            "_model_module_version": "1.0.0",
            "_view_count": null,
            "_view_module_version": "1.0.0",
            "layout": "IPY_MODEL_66d90926b9b44b33818d53b3c4f3be81",
            "_model_module": "@jupyter-widgets/output"
          }
        },
        "cba8bf1ba3ec4353bd6160a92af94a87": {
          "model_module": "@jupyter-widgets/base",
          "model_name": "LayoutModel",
          "state": {
            "_view_name": "LayoutView",
            "grid_template_rows": "repeat(2, 1fr)",
            "right": null,
            "justify_content": null,
            "_view_module": "@jupyter-widgets/base",
            "overflow": null,
            "_model_module_version": "1.2.0",
            "_view_count": null,
            "flex_flow": null,
            "width": "70%",
            "min_width": null,
            "border": null,
            "align_items": "flex-start",
            "bottom": null,
            "_model_module": "@jupyter-widgets/base",
            "top": null,
            "grid_column": null,
            "overflow_y": null,
            "overflow_x": null,
            "grid_auto_flow": null,
            "grid_area": null,
            "grid_template_columns": "repeat(3, 1fr)",
            "flex": null,
            "_model_name": "LayoutModel",
            "justify_items": null,
            "grid_row": null,
            "max_height": null,
            "align_content": null,
            "visibility": null,
            "align_self": null,
            "height": null,
            "min_height": null,
            "padding": null,
            "grid_auto_rows": null,
            "grid_gap": null,
            "max_width": null,
            "order": null,
            "_view_module_version": "1.2.0",
            "grid_template_areas": "\"widget001 widget002 widget003\"\n\". . widget004\"",
            "object_position": null,
            "object_fit": null,
            "grid_auto_columns": null,
            "margin": null,
            "display": null,
            "left": null
          }
        },
        "f514f7f0910d447bab094db9bab37d93": {
          "model_module": "@jupyter-widgets/controls",
          "model_name": "DropdownModel",
          "state": {
            "_options_labels": [
              "Cassini Orbiter",
              "Clementine",
              "DAWN",
              "Deep Impact",
              "Deep Space 1",
              "EPOXI",
              "ExoMars 2016",
              "GRAIL",
              "Hayabusa",
              "InSight",
              "JUNO",
              "Lunar Reconnaissance Orbiter",
              "MAVEN",
              "MER 1 (Opportunity)",
              "MER 2 (Spirit)",
              "MESSENGER",
              "Mars Express",
              "Mars Global Surveyor",
              "Mars Odyssey",
              "Mars Reconnaissance Orbiter",
              "Mars Science Laboratory",
              "NEAR",
              "New Horizons",
              "OSIRIS-REx",
              "Rosetta",
              "Stardust",
              "Venus Climate Orbiter",
              "Venus Express",
              "Viking Orbiter"
            ],
            "_view_name": "DropdownView",
            "style": "IPY_MODEL_f1ed2bd3ede34ca3b85125e1765278b8",
            "_dom_classes": [],
            "description": "Mission:",
            "_model_name": "DropdownModel",
            "index": 0,
            "_view_module": "@jupyter-widgets/controls",
            "_model_module_version": "1.5.0",
            "_view_count": null,
            "disabled": false,
            "_view_module_version": "1.5.0",
            "description_tooltip": null,
            "_model_module": "@jupyter-widgets/controls",
            "layout": "IPY_MODEL_5b59e40f1732408e9b50a008339755bf"
          }
        },
        "1f464a9ecdf24ebabe1a3ef17571db83": {
          "model_module": "@jupyter-widgets/controls",
          "model_name": "DatePickerModel",
          "state": {
            "_view_name": "DatePickerView",
            "style": "IPY_MODEL_72fe6c4d4f0d4523b6a72abcfabbdb39",
            "_dom_classes": [],
            "description": "Start Date:",
            "_model_name": "DatePickerModel",
            "_view_module": "@jupyter-widgets/controls",
            "_model_module_version": "1.5.0",
            "value": {
              "date": 15,
              "month": 9,
              "year": 1997
            },
            "_view_count": null,
            "disabled": false,
            "_view_module_version": "1.5.0",
            "description_tooltip": null,
            "_model_module": "@jupyter-widgets/controls",
            "layout": "IPY_MODEL_cdfb5d0ea4034eccb729da52147e71dc"
          }
        },
        "a61add2a8f3e4485a7bc1e03776b69a4": {
          "model_module": "@jupyter-widgets/controls",
          "model_name": "DatePickerModel",
          "state": {
            "_view_name": "DatePickerView",
            "style": "IPY_MODEL_f2ceab91017a45cab8a0410c368a3b6d",
            "_dom_classes": [],
            "description": "Stop Date:",
            "_model_name": "DatePickerModel",
            "_view_module": "@jupyter-widgets/controls",
            "_model_module_version": "1.5.0",
            "value": {
              "date": 15,
              "month": 8,
              "year": 2017
            },
            "_view_count": null,
            "disabled": false,
            "_view_module_version": "1.5.0",
            "description_tooltip": null,
            "_model_module": "@jupyter-widgets/controls",
            "layout": "IPY_MODEL_733a4d79ec304dec8620d373ffd98834"
          }
        },
        "7429eb691bb241ef9d965981c50f6e6e": {
          "model_module": "@jupyter-widgets/controls",
          "model_name": "ButtonModel",
          "state": {
            "_view_name": "ButtonView",
            "style": "IPY_MODEL_9f619ca548ff4390be06b54896180736",
            "_dom_classes": [],
            "description": "🛰️ Download data 🛰️",
            "_model_name": "ButtonModel",
            "button_style": "warning",
            "_view_module": "@jupyter-widgets/controls",
            "_model_module_version": "1.5.0",
            "tooltip": "",
            "_view_count": null,
            "disabled": false,
            "_view_module_version": "1.5.0",
            "layout": "IPY_MODEL_16e5105c28744ebdad4deda9c618f603",
            "_model_module": "@jupyter-widgets/controls",
            "icon": ""
          }
        },
        "f1ed2bd3ede34ca3b85125e1765278b8": {
          "model_module": "@jupyter-widgets/controls",
          "model_name": "DescriptionStyleModel",
          "state": {
            "_view_name": "StyleView",
            "_model_name": "DescriptionStyleModel",
            "description_width": "",
            "_view_module": "@jupyter-widgets/base",
            "_model_module_version": "1.5.0",
            "_view_count": null,
            "_view_module_version": "1.2.0",
            "_model_module": "@jupyter-widgets/controls"
          }
        },
        "5b59e40f1732408e9b50a008339755bf": {
          "model_module": "@jupyter-widgets/base",
          "model_name": "LayoutModel",
          "state": {
            "_view_name": "LayoutView",
            "grid_template_rows": null,
            "right": null,
            "justify_content": null,
            "_view_module": "@jupyter-widgets/base",
            "overflow": null,
            "_model_module_version": "1.2.0",
            "_view_count": null,
            "flex_flow": null,
            "width": null,
            "min_width": null,
            "border": null,
            "align_items": null,
            "bottom": null,
            "_model_module": "@jupyter-widgets/base",
            "top": null,
            "grid_column": null,
            "overflow_y": null,
            "overflow_x": null,
            "grid_auto_flow": null,
            "grid_area": "widget001",
            "grid_template_columns": null,
            "flex": null,
            "_model_name": "LayoutModel",
            "justify_items": null,
            "grid_row": null,
            "max_height": null,
            "align_content": null,
            "visibility": null,
            "align_self": null,
            "height": null,
            "min_height": null,
            "padding": null,
            "grid_auto_rows": null,
            "grid_gap": null,
            "max_width": null,
            "order": null,
            "_view_module_version": "1.2.0",
            "grid_template_areas": null,
            "object_position": null,
            "object_fit": null,
            "grid_auto_columns": null,
            "margin": null,
            "display": null,
            "left": null
          }
        },
        "72fe6c4d4f0d4523b6a72abcfabbdb39": {
          "model_module": "@jupyter-widgets/controls",
          "model_name": "DescriptionStyleModel",
          "state": {
            "_view_name": "StyleView",
            "_model_name": "DescriptionStyleModel",
            "description_width": "",
            "_view_module": "@jupyter-widgets/base",
            "_model_module_version": "1.5.0",
            "_view_count": null,
            "_view_module_version": "1.2.0",
            "_model_module": "@jupyter-widgets/controls"
          }
        },
        "cdfb5d0ea4034eccb729da52147e71dc": {
          "model_module": "@jupyter-widgets/base",
          "model_name": "LayoutModel",
          "state": {
            "_view_name": "LayoutView",
            "grid_template_rows": null,
            "right": null,
            "justify_content": null,
            "_view_module": "@jupyter-widgets/base",
            "overflow": null,
            "_model_module_version": "1.2.0",
            "_view_count": null,
            "flex_flow": null,
            "width": null,
            "min_width": null,
            "border": null,
            "align_items": null,
            "bottom": null,
            "_model_module": "@jupyter-widgets/base",
            "top": null,
            "grid_column": null,
            "overflow_y": null,
            "overflow_x": null,
            "grid_auto_flow": null,
            "grid_area": "widget002",
            "grid_template_columns": null,
            "flex": null,
            "_model_name": "LayoutModel",
            "justify_items": null,
            "grid_row": null,
            "max_height": null,
            "align_content": null,
            "visibility": null,
            "align_self": null,
            "height": null,
            "min_height": null,
            "padding": null,
            "grid_auto_rows": null,
            "grid_gap": null,
            "max_width": null,
            "order": null,
            "_view_module_version": "1.2.0",
            "grid_template_areas": null,
            "object_position": null,
            "object_fit": null,
            "grid_auto_columns": null,
            "margin": null,
            "display": null,
            "left": null
          }
        },
        "f2ceab91017a45cab8a0410c368a3b6d": {
          "model_module": "@jupyter-widgets/controls",
          "model_name": "DescriptionStyleModel",
          "state": {
            "_view_name": "StyleView",
            "_model_name": "DescriptionStyleModel",
            "description_width": "",
            "_view_module": "@jupyter-widgets/base",
            "_model_module_version": "1.5.0",
            "_view_count": null,
            "_view_module_version": "1.2.0",
            "_model_module": "@jupyter-widgets/controls"
          }
        },
        "733a4d79ec304dec8620d373ffd98834": {
          "model_module": "@jupyter-widgets/base",
          "model_name": "LayoutModel",
          "state": {
            "_view_name": "LayoutView",
            "grid_template_rows": null,
            "right": null,
            "justify_content": null,
            "_view_module": "@jupyter-widgets/base",
            "overflow": null,
            "_model_module_version": "1.2.0",
            "_view_count": null,
            "flex_flow": null,
            "width": null,
            "min_width": null,
            "border": null,
            "align_items": null,
            "bottom": null,
            "_model_module": "@jupyter-widgets/base",
            "top": null,
            "grid_column": null,
            "overflow_y": null,
            "overflow_x": null,
            "grid_auto_flow": null,
            "grid_area": "widget003",
            "grid_template_columns": null,
            "flex": null,
            "_model_name": "LayoutModel",
            "justify_items": null,
            "grid_row": null,
            "max_height": null,
            "align_content": null,
            "visibility": null,
            "align_self": null,
            "height": null,
            "min_height": null,
            "padding": null,
            "grid_auto_rows": null,
            "grid_gap": null,
            "max_width": null,
            "order": null,
            "_view_module_version": "1.2.0",
            "grid_template_areas": null,
            "object_position": null,
            "object_fit": null,
            "grid_auto_columns": null,
            "margin": null,
            "display": null,
            "left": null
          }
        },
        "9f619ca548ff4390be06b54896180736": {
          "model_module": "@jupyter-widgets/controls",
          "model_name": "ButtonStyleModel",
          "state": {
            "_view_name": "StyleView",
            "_model_name": "ButtonStyleModel",
            "_view_module": "@jupyter-widgets/base",
            "_model_module_version": "1.5.0",
            "_view_count": null,
            "button_color": null,
            "font_weight": "",
            "_view_module_version": "1.2.0",
            "_model_module": "@jupyter-widgets/controls"
          }
        },
        "16e5105c28744ebdad4deda9c618f603": {
          "model_module": "@jupyter-widgets/base",
          "model_name": "LayoutModel",
          "state": {
            "_view_name": "LayoutView",
            "grid_template_rows": null,
            "right": null,
            "justify_content": null,
            "_view_module": "@jupyter-widgets/base",
            "overflow": null,
            "_model_module_version": "1.2.0",
            "_view_count": null,
            "flex_flow": null,
            "width": "auto",
            "min_width": null,
            "border": null,
            "align_items": null,
            "bottom": null,
            "_model_module": "@jupyter-widgets/base",
            "top": null,
            "grid_column": null,
            "overflow_y": null,
            "overflow_x": null,
            "grid_auto_flow": null,
            "grid_area": "widget004",
            "grid_template_columns": null,
            "flex": null,
            "_model_name": "LayoutModel",
            "justify_items": null,
            "grid_row": null,
            "max_height": null,
            "align_content": null,
            "visibility": null,
            "align_self": null,
            "height": null,
            "min_height": null,
            "padding": null,
            "grid_auto_rows": null,
            "grid_gap": null,
            "max_width": null,
            "order": null,
            "_view_module_version": "1.2.0",
            "grid_template_areas": null,
            "object_position": null,
            "object_fit": null,
            "grid_auto_columns": null,
            "margin": null,
            "display": null,
            "left": null
          }
        },
        "66d90926b9b44b33818d53b3c4f3be81": {
          "model_module": "@jupyter-widgets/base",
          "model_name": "LayoutModel",
          "state": {
            "_view_name": "LayoutView",
            "grid_template_rows": null,
            "right": null,
            "justify_content": null,
            "_view_module": "@jupyter-widgets/base",
            "overflow": null,
            "_model_module_version": "1.2.0",
            "_view_count": null,
            "flex_flow": null,
            "width": null,
            "min_width": null,
            "border": null,
            "align_items": null,
            "bottom": null,
            "_model_module": "@jupyter-widgets/base",
            "top": null,
            "grid_column": null,
            "overflow_y": null,
            "overflow_x": null,
            "grid_auto_flow": null,
            "grid_area": null,
            "grid_template_columns": null,
            "flex": null,
            "_model_name": "LayoutModel",
            "justify_items": null,
            "grid_row": null,
            "max_height": null,
            "align_content": null,
            "visibility": null,
            "align_self": null,
            "height": null,
            "min_height": null,
            "padding": null,
            "grid_auto_rows": null,
            "grid_gap": null,
            "max_width": null,
            "order": null,
            "_view_module_version": "1.2.0",
            "grid_template_areas": null,
            "object_position": null,
            "object_fit": null,
            "grid_auto_columns": null,
            "margin": null,
            "display": null,
            "left": null
          }
        }
      }
    }
  },
  "cells": [
    {
      "cell_type": "markdown",
      "metadata": {
        "id": "view-in-github",
        "colab_type": "text"
      },
      "source": [
        "<a href=\"https://colab.research.google.com/github/fysixs/SPICE/blob/master/SPICEOrbitalAnalysis.ipynb\" target=\"_parent\"><img src=\"https://colab.research.google.com/assets/colab-badge.svg\" alt=\"Open In Colab\"/></a>"
      ]
    },
    {
      "cell_type": "markdown",
      "metadata": {
        "id": "O8yXz_DH19PF"
      },
      "source": [
        "[comment]: <> (Written by Andrés Cárdenas)\n",
        "[comment]: <> (July 2021)\n",
        "[comment]: <> (www.fysixs.com)\n",
        "[comment]: <> (andres.cardenas@gmail.com)\n",
        "\n",
        "<div class=\"row\" align =\"left\">\n",
        "\n",
        "<font face=\"Gill Sans\" color = #667495> **Cool Stuff in Fysixs** <br> *Andrés Cárdenas, 2021*\n",
        "\n",
        " <img src=\"https://drive.google.com/thumbnail?id=1cJN2J8ByFPCfATK70k6CiHeP0bKGN-Ii\" alt=\"Snow\" width=\"35\">\n",
        " <img src=\"https://drive.google.com/thumbnail?id=1nmgz_xGqeqgvU8wBfJFERu1Zs82bBZ84\" alt=\"Snow\" width=\"55\" align =\"right\">\n",
        " <img src=\"https://drive.google.com/thumbnail?id=1Jytnbufvmu7v3OWJiiXwVLnLnB8ukJPo\" alt=\"Snow\" width=\"90\" align =\"right\">\n",
        "  <img src=\"https://i.imgur.com/7c3Iwcl.png\" alt=\"Snow\" height=\"37\" align =\"right\">\n",
        "</font>\n",
        "</div>\n",
        "\n",
        "<hr size=5 color=#8D84B5 > </hr> \n",
        "\n",
        "<div align=\"left\">\n",
        "<br>\n",
        "\n",
        "# <font color = #667495 face=\"Gill Sans\"> &nbsp; &nbsp; &nbsp; **SPICE Orbital Analysis**\n",
        "## <font color = #667495 face=\"Gill Sans\"> &nbsp; &nbsp; &nbsp; &nbsp; &nbsp; &nbsp;*Download, plot and analyze the NAIF data directly* </font>\n",
        "\n",
        "<br>\n",
        "</div>\n",
        "\n",
        "<hr size=5 color=#8D84B5 > </hr> \n"
      ]
    },
    {
      "cell_type": "code",
      "metadata": {
        "cellView": "form",
        "id": "w7lMFO4f80j2"
      },
      "source": [
        "#@title 🐍 <font size = 3 face=\"Courier New\" color=teal> <b>Environment Setup 💻\n",
        "# Install spiceypy\n",
        "print(\"#### INSTALLING SPICEYPY #####\")\n",
        "!pip install spiceypy\n",
        "import numpy as np\n",
        "import plotly.express as px\n",
        "import plotly.graph_objects as go\n",
        "import spiceypy as spice\n",
        "import glob\n",
        "import os\n",
        "import sys\n",
        "import pandas as pd\n",
        "import ipywidgets as widgets\n",
        "import datetime\n",
        "from bs4 import BeautifulSoup\n",
        "from IPython.display import clear_output\n",
        "from ipywidgets import GridspecLayout\n",
        "\n",
        "\n",
        "# Obtain the data source list from NAIF\n",
        "\n",
        "!wget https://naif.jpl.nasa.gov/naif/data_archived.html\n",
        "!sed -n '/<!--start data-->/{:a;n;/<!--end data-->/b;p;ba}' data_archived.html > /content/table.html\n",
        "\n",
        "path = '/content/table.html'\n",
        "   \n",
        "# empty list\n",
        "data = []\n",
        "   \n",
        "# for getting the header from\n",
        "# the HTML file\n",
        "list_header = []\n",
        "soup = BeautifulSoup(open(path),'html.parser')\n",
        "header = soup.find_all(\"table\")[0].find(\"tr\")\n",
        "  \n",
        "for items in header:\n",
        "    try:\n",
        "        list_header.append(items.get_text())\n",
        "    except:\n",
        "        continue\n",
        "  \n",
        "# for getting the data \n",
        "HTML_data = soup.find_all(\"table\")[0].find_all(\"tr\")[1:]\n",
        "  \n",
        "for element in HTML_data:\n",
        "    sub_data = []\n",
        "    for sub_element in element:\n",
        "        try:\n",
        "            if bool(sub_element.a):\n",
        "              sub_data.append(sub_element.a.get('href'))\n",
        "            else:\n",
        "              sub_data.append(sub_element.get_text())\n",
        "        except:\n",
        "            continue\n",
        "    data.append(sub_data)\n",
        "  \n",
        "# Storing the data into Pandas\n",
        "# DataFrame \n",
        "spiceDf = pd.DataFrame(data = data, columns = list_header)\n",
        "\n",
        "clear_output()\n"
      ],
      "execution_count": 15,
      "outputs": []
    },
    {
      "cell_type": "markdown",
      "metadata": {
        "id": "nTOr4d5XX8eF"
      },
      "source": [
        "<center>\n",
        "  <img src=\"https://i.imgur.com/5D0tObE.png\" height = 500>\n",
        "</center>\n",
        "<div align=\"right\">\n",
        "  <font align=\"right\" face=\"Gill Sans\"> Data SPICE can give you. <i> Credit: NAIF/JPL</i> <br>\n",
        "  All NAIF/JPL references at the end </a>. Thank you!\n",
        "  </font>\n",
        "</div>\n",
        "\n"
      ]
    },
    {
      "cell_type": "markdown",
      "metadata": {
        "id": "s-ifUlYkBObf"
      },
      "source": [
        "## **Useful sources**"
      ]
    },
    {
      "cell_type": "markdown",
      "metadata": {
        "id": "El2_P3ULBP_w"
      },
      "source": [
        "\n",
        "\n",
        "1.   [Fundamental Concepts](https://naif.jpl.nasa.gov/pub/naif/toolkit_docs/Tutorials/pdf/individual_docs/04_concepts.pdf)\n",
        "2.   [SPICE Position](https://naif.jpl.nasa.gov/pub/naif/toolkit_docs/C/cspice/spkpos_c.html)\n",
        "\n",
        "3.   [day of year conversion](https://www.scp.byu.edu/docs/doychart.html)\n",
        "\n",
        "\n"
      ]
    },
    {
      "cell_type": "markdown",
      "metadata": {
        "id": "0XHW0GQVRSKV"
      },
      "source": [
        "## **Data**"
      ]
    },
    {
      "cell_type": "markdown",
      "metadata": {
        "id": "TEsn-gJBSGQ2"
      },
      "source": [
        "Import SPICE data, set of ancillary data, from [NAIF](https://https://naif.jpl.nasa.gov/naif/data_archived.html)."
      ]
    },
    {
      "cell_type": "code",
      "metadata": {
        "id": "jBjMbcJ7OoVP",
        "colab": {
          "base_uri": "https://localhost:8080/",
          "height": 81,
          "referenced_widgets": [
            "f182c8459deb4ff6a3ad6bf5a62193e2",
            "193fd71b5cfa42bab126587679781baa",
            "cba8bf1ba3ec4353bd6160a92af94a87",
            "f514f7f0910d447bab094db9bab37d93",
            "1f464a9ecdf24ebabe1a3ef17571db83",
            "a61add2a8f3e4485a7bc1e03776b69a4",
            "7429eb691bb241ef9d965981c50f6e6e",
            "f1ed2bd3ede34ca3b85125e1765278b8",
            "5b59e40f1732408e9b50a008339755bf",
            "72fe6c4d4f0d4523b6a72abcfabbdb39",
            "cdfb5d0ea4034eccb729da52147e71dc",
            "f2ceab91017a45cab8a0410c368a3b6d",
            "733a4d79ec304dec8620d373ffd98834",
            "9f619ca548ff4390be06b54896180736",
            "16e5105c28744ebdad4deda9c618f603",
            "66d90926b9b44b33818d53b3c4f3be81"
          ]
        },
        "cellView": "form",
        "outputId": "f1481435-93e2-484a-8c3a-998542ecbd6b"
      },
      "source": [
        "#@title **Import data**\n",
        "\n",
        "# ΛΛΛΛΛΛΛΛΛΛΛΛΛΛΛΛΛΛΛΛΛΛ\n",
        "# Operations\n",
        "# ΛΛΛΛΛΛΛΛΛΛΛΛΛΛΛΛΛΛΛΛΛΛ\n",
        "\n",
        "def download_data(dataSubSet, startDate, stopDate, output):\n",
        "  with output:\n",
        "    print(\"#### GETTING DATA FROM NAIF #####\")\n",
        "    # Prepare the directories\n",
        "    %cd /content/\n",
        "    %rm -Rf NAIF\n",
        "    %mkdir NAIF\n",
        "    %cd NAIF\n",
        "\n",
        "    dataURL = ( dataSubSet + \"&start=\" + startDate.value.isoformat() + \n",
        "              \"&stop=\" + stopDate.value.isoformat() + \"&action=Subset\" )\n",
        "\n",
        "    !wget  \"$dataURL\" -O data.zip\n",
        "    !unzip data.zip\n",
        "    !source ./*.tcsh\n",
        "\n",
        "    subDir = dataSubSet.split(\"/\")[-1]\n",
        "    %cd /content/NAIF/$subDir\n",
        "\n",
        "    %cp ../*.tm .\n",
        "    kernel = glob.glob(\"./*.tm\")[0]\n",
        "\n",
        "    # %cp ../*.TM .\n",
        "    # kernel = glob.glob(\"./*.TM\")[0]\n",
        "    \n",
        "    print(\"#### CONNECTING KERNELS #####\")\n",
        "    spice.furnsh(kernel)\n",
        "\n",
        "  output.clear_output()\n",
        "  return\n",
        "\n",
        "\n",
        "def import_data():\n",
        "\n",
        "  # ΛΛΛΛΛΛΛΛΛΛΛΛΛΛΛΛΛΛΛΛΛΛ\n",
        "  # Widgets\n",
        "  # ΛΛΛΛΛΛΛΛΛΛΛΛΛΛΛΛΛΛΛΛΛΛ\n",
        "\n",
        "  mission_list = [(name[1], name[0]) for name in enumerate(spiceDf['Mission Name'])]\n",
        "\n",
        "  mission_select = widgets.Dropdown(\n",
        "      options=mission_list,\n",
        "      value=0,\n",
        "      description='Mission:',\n",
        "  )\n",
        "\n",
        "  def missionDate(time):\n",
        "    if time=='start':\n",
        "      dat = spiceDf['Start Time'][mission_select.value].strip().split('-')\n",
        "    elif time=='stop':\n",
        "      dat = spiceDf['Stop Time'][mission_select.value].strip().split('-')\n",
        "    return datetime.date( int(dat[0]), int(dat[1]), int(dat[2]) )\n",
        "\n",
        "  startDate = widgets.DatePicker(\n",
        "      description='Start Date:',\n",
        "      disabled=False,\n",
        "      value = missionDate('start')\n",
        "  )\n",
        "  \n",
        "  stopDate = widgets.DatePicker(\n",
        "      description='Stop Date:',\n",
        "      disabled=False,\n",
        "      value = missionDate('stop')\n",
        "  )\n",
        "\n",
        "  get_data_button = widgets.Button(description=\"🛰️ Download data 🛰️\",\n",
        "                                 layout= widgets.Layout( width='auto'),\n",
        "                                 button_style='warning' )\n",
        "  \n",
        "  output = widgets.Output()\n",
        "\n",
        "  # ΛΛΛΛΛΛΛΛΛΛΛΛΛΛΛΛΛΛΛΛΛΛ\n",
        "  # Interface\n",
        "  # ΛΛΛΛΛΛΛΛΛΛΛΛΛΛΛΛΛΛΛΛΛΛ\n",
        "\n",
        "  dataSubSet = spiceDf['Subset Link'][mission_select.value]\n",
        "\n",
        "  def on_button_clicked(b):\n",
        "    download_data(dataSubSet, startDate, stopDate, output)\n",
        "    return\n",
        "  get_data_button.on_click(on_button_clicked)\n",
        "\n",
        "  def on_value_change(change):\n",
        "    startDate.value = missionDate('start')\n",
        "    stopDate.value  = missionDate('stop')\n",
        "    return\n",
        "  mission_select.observe(on_value_change, names='value')\n",
        "\n",
        "  # ΛΛΛΛΛΛΛΛΛΛΛΛΛΛΛΛΛΛΛΛΛΛ\n",
        "  # UI\n",
        "  # ΛΛΛΛΛΛΛΛΛΛΛΛΛΛΛΛΛΛΛΛΛΛ  \n",
        "\n",
        "  grid = GridspecLayout(2, 3,  align_items='flex-start',\n",
        "                  width='70%')\n",
        "\n",
        "  grid[0,0] = mission_select\n",
        "  grid[0,1] = startDate\n",
        "  grid[0,2] = stopDate\n",
        "  grid[1,2] = get_data_button\n",
        "\n",
        "  display(grid)\n",
        "  display(output)\n",
        "\n",
        "  return\n",
        "\n",
        "import_data()\n"
      ],
      "execution_count": 20,
      "outputs": [
        {
          "output_type": "display_data",
          "data": {
            "application/vnd.jupyter.widget-view+json": {
              "model_id": "f182c8459deb4ff6a3ad6bf5a62193e2",
              "version_minor": 0,
              "version_major": 2
            },
            "text/plain": [
              "GridspecLayout(children=(Dropdown(description='Mission:', layout=Layout(grid_area='widget001'), options=(('Cas…"
            ]
          },
          "metadata": {
            "tags": []
          }
        },
        {
          "output_type": "display_data",
          "data": {
            "application/vnd.jupyter.widget-view+json": {
              "model_id": "193fd71b5cfa42bab126587679781baa",
              "version_minor": 0,
              "version_major": 2
            },
            "text/plain": [
              "Output()"
            ]
          },
          "metadata": {
            "tags": []
          }
        }
      ]
    },
    {
      "cell_type": "code",
      "metadata": {
        "id": "RZQ1lBRQzlpG"
      },
      "source": [
        "#@title **Select Plotting Range** { display-mode: \"form\" }\n",
        "plotStart = \"2008-01-07\" #@param {type:\"date\"}\n",
        "plotEnd   = \"2015-04-22\" #@param {type:\"date\"}\n",
        "orbiter   = \"venus\" #@param {type:\"string\"}\n",
        "orbiting  = \"solar system barycenter\" #@param {type:\"string\"}\n",
        "\n",
        "def get_data(plotDates, targets, data):\n",
        "  # Number of time-points to obtain\n",
        "  steps = data['steps'] #20000\n",
        "\n",
        "  plotStart = plotDates[0]\n",
        "  plotEnd   = plotDates[1]\n",
        "\n",
        "  orbiter  = targets[0]\n",
        "  orbiting = targets[1]\n",
        "\n",
        "  # we are going to get positions between these two dates\n",
        "  utc = [plotStart, plotEnd]\n",
        "\n",
        "  # Returns seconds since J2000 epoch (January 1, 2000 at 12:00 TerrTime)\n",
        "  etOne = spice.str2et(utc[0])\n",
        "  etTwo = spice.str2et(utc[1])\n",
        "  print(\"ET Beginning: {}, ET End: {}\".format(etOne, etTwo))\n",
        "\n",
        "  # Creates the array of times requested\n",
        "  dt = (etTwo-etOne)/steps\n",
        "  times = [i * dt + etOne for i in range(steps)]\n",
        "\n",
        "  #Run spkpos to pull location/time data\n",
        "  #Run spkezr to pull location/vel/time data\n",
        "  #positions, lightTimes = spice.spkpos(orbiter, times, 'J2000', 'NONE',orbiting)\n",
        "  states, lightTimes = spice.spkezr(orbiter, times, 'J2000', 'NONE', orbiting)\n",
        "  # Positions is a 3xsteps vector of XYZ positions\n",
        "  # Light times is a steps vector of time\n",
        "  print(states)\n",
        "\n",
        "  return\n",
        "\n",
        "def analyze_data():\n",
        "\n",
        "  # ΛΛΛΛΛΛΛΛΛΛΛΛΛΛΛΛΛΛΛΛΛΛ\n",
        "  # Widgets\n",
        "  # ΛΛΛΛΛΛΛΛΛΛΛΛΛΛΛΛΛΛΛΛΛΛ\n",
        "\n",
        "  mission_list = [(name[1], name[0]) for name in enumerate(spiceDf['Mission Name'])]\n",
        "\n",
        "  mission_select = widgets.Dropdown(\n",
        "      options=mission_list,\n",
        "      value=0,\n",
        "      description='Mission:',\n",
        "  )\n",
        "\n",
        "  def missionDate(time):\n",
        "    if time=='start':\n",
        "      dat = spiceDf['Start Time'][mission_select.value].strip().split('-')\n",
        "    elif time=='stop':\n",
        "      dat = spiceDf['Stop Time'][mission_select.value].strip().split('-')\n",
        "    return datetime.date( int(dat[0]), int(dat[1]), int(dat[2]) )\n",
        "\n",
        "  startDate = widgets.DatePicker(\n",
        "      description='Start Date:',\n",
        "      disabled=False,\n",
        "      value = missionDate('start')\n",
        "  )\n",
        "  \n",
        "  stopDate = widgets.DatePicker(\n",
        "      description='Stop Date:',\n",
        "      disabled=False,\n",
        "      value = missionDate('stop')\n",
        "  )\n",
        "\n",
        "  get_data_button = widgets.Button(description=\"🛰️ Download data 🛰️\",\n",
        "                                 layout= widgets.Layout( width='auto'),\n",
        "                                 button_style='warning' )\n",
        "  \n",
        "  output = widgets.Output()\n",
        "\n",
        "  # ΛΛΛΛΛΛΛΛΛΛΛΛΛΛΛΛΛΛΛΛΛΛ\n",
        "  # Interface\n",
        "  # ΛΛΛΛΛΛΛΛΛΛΛΛΛΛΛΛΛΛΛΛΛΛ\n",
        "\n",
        "  dataSubSet = spiceDf['Subset Link'][mission_select.value]\n",
        "\n",
        "  def on_button_clicked(b):\n",
        "    download_data(dataSubSet, startDate, stopDate, output)\n",
        "    return\n",
        "  get_data_button.on_click(on_button_clicked)\n",
        "\n",
        "  def on_value_change(change):\n",
        "    startDate.value = missionDate('start')\n",
        "    stopDate.value  = missionDate('stop')\n",
        "    return\n",
        "  mission_select.observe(on_value_change, names='value')\n",
        "\n",
        "  # ΛΛΛΛΛΛΛΛΛΛΛΛΛΛΛΛΛΛΛΛΛΛ\n",
        "  # UI\n",
        "  # ΛΛΛΛΛΛΛΛΛΛΛΛΛΛΛΛΛΛΛΛΛΛ  \n",
        "\n",
        "  grid = GridspecLayout(2, 3,  align_items='flex-start',\n",
        "                  width='70%')\n",
        "\n",
        "  grid[0,0] = mission_select\n",
        "  grid[0,1] = startDate\n",
        "  grid[0,2] = stopDate\n",
        "  grid[1,2] = get_data_button\n",
        "\n",
        "  display(grid)\n",
        "  display(output)\n",
        "\n",
        "  return\n",
        "\n",
        "analyze_data()\n",
        " \n",
        "# And finally plot them\n",
        "pos = positions.T\n",
        "fig = go.Figure()\n",
        "fig.add_trace(go.Scatter3d(x = pos[0], y= pos[1], z = pos[2], mode='lines'))\n",
        "fig.add_trace(go.Scatter3d(x=[0], y=[0], z=[0], marker=dict(color='red', size=10)))\n",
        "fig.update_layout(showlegend=False)\n",
        "fig.show()\n",
        "Execution output from May 17, 2021 8:11 PM\n",
        "\tStream\n",
        "\t\tET Beginning: 252936065.18408436, ET End: 482932867.18558073\n",
        "\n",
        "Code cell <T0pfgCmrVoo1>\n",
        "#%% [code]\n",
        "#@title **Select Exra Object** { display-mode: \"form\" }\n",
        "orbiter2   = \"earth\" #@param {type:\"string\"}\n",
        "\n",
        "#Run spkpos to pull location/time data\n",
        "positions2, lightTimes2 = spice.spkpos(orbiter2, times, 'J2000', 'NONE',orbiting)\n",
        "#states, lightTimes2 = spice.spkezr(orbiter, times, 'J2000', 'NONE',orbiting)\n",
        "# Positions is a 3xN vector of XYZ positions\n",
        "# print(\"Positions: \")\n",
        "# print(positions[0])\n",
        " \n",
        "# Light times is a N vector of time\n",
        "# print(\"Light Times: \")\n",
        "# print(lightTimes[0])\n",
        " \n",
        "# And finally plot them\n",
        "pos2 = positions2.T\n",
        "fig.add_trace(go.Scatter3d(x = pos2[0], y= pos2[1], z = pos2[2], mode='lines'))\n",
        "fig.update_layout(showlegend=False)\n",
        "fig.show()"
      ],
      "execution_count": null,
      "outputs": []
    },
    {
      "cell_type": "markdown",
      "metadata": {
        "id": "3f7TuGPAysv0"
      },
      "source": [
        ""
      ]
    },
    {
      "cell_type": "markdown",
      "metadata": {
        "id": "7xqUgFp2RTBe"
      },
      "source": [
        "# **Graphs**"
      ]
    },
    {
      "cell_type": "markdown",
      "metadata": {
        "id": "7MEU80FqU1J2"
      },
      "source": [
        "The Orbit Component Graph shows the x,y,z position of the orbiter."
      ]
    },
    {
      "cell_type": "code",
      "metadata": {
        "id": "RQgPO2KCSRiT"
      },
      "source": [
        "#@title **Orbit Component Graph** { display-mode: \"form\" }\n",
        "\n",
        "fig = go.Figure()\n",
        "\n",
        "x = np.array(times)/60/60/24/30\n",
        "xCoo = positions.T[0]\n",
        "yCoo = positions.T[1]\n",
        "zCoo = positions.T[2]\n",
        "\n",
        "fig.add_scatter(x=x, y=xCoo, name=r\"$x$\")\n",
        "fig.add_scatter(x=x, y=yCoo, name=r\"$y$\")\n",
        "fig.add_scatter(x=x, y=zCoo, name=r\"$z$\")\n",
        "\n",
        "fig.update_layout(\n",
        "    title = \"Orbit components\",\n",
        "    xaxis_title=\"time (month)\",\n",
        "    yaxis_title=\"distance (km)\",\n",
        ")\n"
      ],
      "execution_count": null,
      "outputs": []
    },
    {
      "cell_type": "markdown",
      "metadata": {
        "id": "qFEhicOZavw4"
      },
      "source": [
        "The radius of the orbit can be calculated by multiplying the speed of light to the normal vector of time.\n",
        "\n",
        "The local maximums of the r(t) graph is when the distance between moon and earth is furtherst away, also known as apogee. The local minimum points - perigee - are when the earth and moon is closer to each other and it occurs on January 3rd, January 31st and February 28th."
      ]
    },
    {
      "cell_type": "code",
      "metadata": {
        "id": "fjDhvMe6TkUZ"
      },
      "source": [
        "#@title **r(t)** { display-mode: \"form\" }\n",
        "x = np.array(times)/60/60/24/30\n",
        "y = lightTimes*(299792.458)\n",
        "fig = go.Figure()\n",
        "fig.add_scatter(x=x, y=y)  \n",
        "\n",
        "fig.update_layout(\n",
        "    title=\"r(t)\",\n",
        "    xaxis_title=\"time (month)\",\n",
        "    yaxis_title=\"length (m)\"\n",
        ")"
      ],
      "execution_count": null,
      "outputs": []
    },
    {
      "cell_type": "markdown",
      "metadata": {
        "id": "v4At_6PKWj1H"
      },
      "source": [
        "\n",
        "$$\\text{der(j,i)} = \\frac{\\Delta position}{\\Delta time} $$"
      ]
    },
    {
      "cell_type": "code",
      "metadata": {
        "id": "jqi_Du_DLfxE"
      },
      "source": [
        "def der(j, i): \n",
        "    return (positions.T[i][j+1]-positions.T[i][j])/(times[j+1]-times[j])"
      ],
      "execution_count": null,
      "outputs": []
    },
    {
      "cell_type": "code",
      "metadata": {
        "id": "8PPj1NzJTr18"
      },
      "source": [
        "#velocity\n",
        "#@title **velocity** { display-mode: \"form\" }\n",
        "vx  = [ der(j,0) for j in range(steps-1) ]\n",
        "vy  = [ der(j,1) for j in range(steps-1) ]\n",
        "vz  = [ der(j,2) for j in range(steps-1) ]\n",
        "timesM = np.array(times)/60/60/24/30\n",
        "fig = go.Figure()\n",
        "fig.add_scatter(x=timesM, y=vx, name=r'$v_x$')\n",
        "fig.add_scatter(x=timesM, y=vy, name=r'$v_y$')\n",
        "fig.add_scatter(x=timesM, y=vz, name=r'$v_z$')\n",
        "timesM = np.array(times)/60/60/24/30\n",
        "fig.update_layout(\n",
        "    title=\"Component Velocities\",\n",
        "    xaxis_title=\"time (month)\",\n",
        "    yaxis_title=\"velocity (km/s)\"\n",
        ")"
      ],
      "execution_count": null,
      "outputs": []
    },
    {
      "cell_type": "code",
      "metadata": {
        "id": "7VhmF3Rk85Ye"
      },
      "source": [
        "#speed\n",
        "#@title **speed** { display-mode: \"form\" }\n",
        "vx = np.array(vx)\n",
        "vy = np.array(vy)\n",
        "vz = np.array(vz)\n",
        "v = np.sqrt(vx**2 + vy**2 + vz**2)\n",
        "timesM = np.array(times)/60/60/24/30\n",
        "fig = go.Figure()\n",
        "fig.add_scatter(x=timesM, y=v, name=r'$v$')\n",
        "fig.update_layout(\n",
        "    title=\"Component Velocities\",\n",
        "    xaxis_title=\"time (month)\",\n",
        "    yaxis_title=\"velocity (km/s)\"\n",
        ")"
      ],
      "execution_count": null,
      "outputs": []
    },
    {
      "cell_type": "code",
      "metadata": {
        "id": "fXA2ISvATuD0"
      },
      "source": [
        "#@title **acceleration** { display-mode: \"form\" }\n",
        "def derX(j, i): \n",
        "    return (positions.T[i][j+1]-positions.T[i][j])/(times[j+1]-times[j])\n",
        "def derV(j, i): \n",
        "    if i == 0:\n",
        "        v = np.copy(vx)\n",
        "    elif i == 1:\n",
        "        v = np.copy(vy)\n",
        "    elif i == 2:\n",
        "        v = np.copy(vz)\n",
        "    return (v[j+1]-v[j])/(times[j+1]-times[j])\n",
        "  ### slope = y2-y1/x2-x1\n",
        "  ### x = range(7998) y = vx[x]\n",
        "vx  = [ derX(j,0) for j in range(steps-1) ]\n",
        "vy  = [ derX(j,1) for j in range(steps-1) ]\n",
        "vz  = [ derX(j,2) for j in range(steps-1) ]\n",
        "\n",
        "ax  = [ derV(j,0) for j in range(steps-2) ]\n",
        "ay  = [ derV(j,1) for j in range(steps-2) ]\n",
        "az  = [ derV(j,2) for j in range(steps-2) ]\n",
        "timesM = np.array(times)/60/60/24/30\n",
        "fig = go.Figure()\n",
        "fig.add_scatter(x=timesM, y=ax, name=r'$a_x$')\n",
        "fig.add_scatter(x=timesM, y=ay, name=r'$a_y$')\n",
        "fig.add_scatter(x=timesM, y=az, name=r'$a_z$')\n",
        "timesM = np.array(times)/60/60/24/30\n",
        "fig.update_layout(\n",
        "    title=\"Component accelerations\",\n",
        "    xaxis_title=\"time (month)\",\n",
        "    yaxis_title=\"acceleration (km/s^2)\"\n",
        ")"
      ],
      "execution_count": null,
      "outputs": []
    },
    {
      "cell_type": "markdown",
      "metadata": {
        "id": "pWHSTkAi0dXq"
      },
      "source": [
        "The angular velocity can be simply calculated by $\\frac{speed}{radius}$\n",
        "Moon's angualr velocity varies throughout its orbit. It travels faster when it is closer to the Earth and slower when it is further away from the Earth. For example, on the graph, date such as February 1st, when the Earth is farthest away from the Moon, has local minimum angular velocity value. Among the peaks, July 3rd has highest angular velocity value (Earth and Sun farthest away.. less gravitational pull from sun allows higher angular velocity??)"
      ]
    },
    {
      "cell_type": "code",
      "metadata": {
        "id": "394joDd60X_k"
      },
      "source": [
        "def omega(x):\n",
        "  speed = np.sqrt(der(x,0)**2 +der(x,1)**2 +der(x,2)**2) \n",
        "  radius = lightTimes[x]*3e8\n",
        "  return speed/radius"
      ],
      "execution_count": null,
      "outputs": []
    },
    {
      "cell_type": "code",
      "metadata": {
        "id": "GHL0RrPKeiPT"
      },
      "source": [
        "#@title **angular velocity** { display-mode: \"form\" }\n",
        "# omega \n",
        "angvx = [ omega(k) for k in range(steps-3) ]\n",
        "\n",
        "fig = go.Figure()\n",
        "timesM = np.array(times)/60/60/24/30\n",
        "fig.add_scatter(x=timesM, y=angvx, name=r'$v_x$')\n",
        "fig.update_layout(\n",
        "    title = \"omega\",\n",
        "    xaxis_title=\"time (month)\",\n",
        "    yaxis_title=\"angular velocity (rad/s)\",\n",
        ")"
      ],
      "execution_count": null,
      "outputs": []
    },
    {
      "cell_type": "markdown",
      "metadata": {
        "id": "mTTh7LN7p9q1"
      },
      "source": [
        "10/26 (when time is 10.8634) something has went through that pulled and made a bump on the graph.. but nothing seemd to happen on the omega graph."
      ]
    },
    {
      "cell_type": "code",
      "metadata": {
        "id": "QIoteYm5Sn8y"
      },
      "source": [
        "#@title **angular acceleration** { display-mode: \"form\" }\n",
        "#alpha\n",
        "def deromega(x):\n",
        "  return (omega(x+1)-omega(x))/(times[x+1]-times[x])\n",
        "omder = [ deromega(k) for k in range(steps-3) ]\n",
        "fig = go.Figure()\n",
        "fig.add_scatter(x=timesM, y=omder, name=r'$v_x$')\n",
        "\n",
        "fig.update_layout(\n",
        "    title = \"alpha\",\n",
        "    xaxis_title=\"time (month)\",\n",
        "    yaxis_title=\"acceleration (rad/s^2)\"\n",
        ")\n",
        "fig.add_annotation(\n",
        "        x=1.18725,\n",
        "        y=4.402777e-16,\n",
        "        xref=\"x\",\n",
        "        yref=\"y\",\n",
        "        text=\"02/05\",\n",
        "        showarrow=True,\n",
        "        align=\"center\",\n",
        "        arrowhead=2,\n",
        "        arrowsize=1,\n",
        "        arrowwidth=2,\n",
        "        arrowcolor=\"#636363\",\n",
        "        ax=20,\n",
        "        ay=-30,\n",
        "        opacity=0.8\n",
        "        )"
      ],
      "execution_count": null,
      "outputs": []
    },
    {
      "cell_type": "code",
      "metadata": {
        "id": "QuH1VnxxSz_d"
      },
      "source": [
        "def planeq(n): #eqaution of plane w/ two vectors\n",
        "  a     = positions.T[0][n],positions.T[1][n],positions.T[2][n]\n",
        "  b     = positions.T[0][n+1],positions.T[1][n+1],positions.T[2][n+1]\n",
        "  cross = np.array([a[1]*b[2]-a[2]*b[1],a[2]*b[0]-a[0]*b[2],a[0]*b[1]-a[1]*b[0]])\n",
        "  return cross/np.linalg.norm(cross)\n"
      ],
      "execution_count": null,
      "outputs": []
    },
    {
      "cell_type": "code",
      "metadata": {
        "id": "wvC8Emol2wz_"
      },
      "source": [
        "(planeq(0)+planeq(-1))/2"
      ],
      "execution_count": null,
      "outputs": []
    },
    {
      "cell_type": "code",
      "metadata": {
        "id": "DHMP8DZf1Re4"
      },
      "source": [
        "planeq(10000)"
      ],
      "execution_count": null,
      "outputs": []
    },
    {
      "cell_type": "code",
      "metadata": {
        "id": "Ghd1M29G3LvG"
      },
      "source": [
        "vecV = (0,0,1)\n",
        "vecU = (planeq(0)+planeq(-1))/2-planeq(10000)\n",
        "# angle between  (planeq(0)+planeq(-1))/2-planeq(10000) and (0,0,1)"
      ],
      "execution_count": null,
      "outputs": []
    },
    {
      "cell_type": "code",
      "metadata": {
        "id": "1iFgqH2M6xlF"
      },
      "source": [
        "magV = np.sqrt(vecV[0]*vecV[0]+ vecV[1]*vecV[1]+vecV[2]*vecV[2])\n",
        "magU = np.sqrt(vecU[0]*vecU[0]+ vecU[1]*vecU[1]+vecU[2]*vecU[2])\n",
        "magV , magU"
      ],
      "execution_count": null,
      "outputs": []
    },
    {
      "cell_type": "code",
      "metadata": {
        "id": "YevaavMh7S_-"
      },
      "source": [
        "np.arccos(vecU[2]/(magV * magU)) *180 /3.14"
      ],
      "execution_count": null,
      "outputs": []
    },
    {
      "cell_type": "markdown",
      "metadata": {
        "id": "j9hkI09o5hZr"
      },
      "source": [
        "angle between xy plane and the vector \n",
        "$$\\vec{v} = <0,0,1> \\quad \\vec{u} = <-0.09147718,  0.3703545 , -0.92449351>$$\n",
        " $$cos\\theta = \\frac{u \\cdot v}{\\lvert\\lvert u \\rvert\\rvert \\text{ } \\lvert\\lvert v \\rvert\\rvert } = \\frac{-0.92449351}{1*1.0001093814970818} = -0.924392$$\n",
        "$$\\arccos(-0.924392) = 157.577 $$\n",
        "The smaller angle between the two vector is 22.4$^\\circ$"
      ]
    },
    {
      "cell_type": "code",
      "metadata": {
        "id": "xTimaq0WTWUU"
      },
      "source": [
        "def ang(k):\n",
        "    dot  = np.dot(planeq(k), planeq(k+1))\n",
        "    if(dot>1.0):\n",
        "        dot = 1.0\n",
        "    return np.arccos(dot)\n",
        "#  return np.arccos(np.abs(planeq(k)[0]*planeq(l)[0]+planeq(k)[1]*planeq(l)[1]+planeq(k)[2]*planeq(l)[2])/(np.sqrt(planeq(k)[0]**2+planeq(k)[1]**2+planeq(k)[2]**2)*np.sqrt(planeq(l)[0]**2+planeq(l)[1]**2+planeq(l)[2]**2)))"
      ],
      "execution_count": null,
      "outputs": []
    },
    {
      "cell_type": "code",
      "metadata": {
        "id": "LQUYksQBSohb"
      },
      "source": [
        "#@title **Orbital Vector Angle** { display-mode: \"form\" }\n",
        "# Orbital Vector angle\n",
        "angle = [ ang(k) for k in range(steps-2) ]\n",
        "fig = go.Figure()\n",
        "fig.add_scatter(x=timesM, y=angle, name=r'$v_x$')\n",
        "timesM = np.array(times)/60/60/24/30\n",
        "fig.update_layout(\n",
        "    title=\"orbital vector angle\",\n",
        "    xaxis_title=\"time (month)\",\n",
        "    yaxis_title=\"angle (rad)\"\n",
        ")"
      ],
      "execution_count": null,
      "outputs": []
    },
    {
      "cell_type": "code",
      "metadata": {
        "id": "uLhW3G_xewkh"
      },
      "source": [
        "def angvel(k):\n",
        "  return (ang(k+1)-ang(k))/(times[k+1]-times[k])"
      ],
      "execution_count": null,
      "outputs": []
    },
    {
      "cell_type": "code",
      "metadata": {
        "id": "dfnGuK4fTgf-"
      },
      "source": [
        "#@title **Angular oscillation freuqnecy of the orbital vector** { display-mode: \"form\" }\n",
        "# Angular Oscillation frequency of the orbital vector\n",
        "# orb vector = perp vector to the orb plane\n",
        "\n",
        "angvx = [ angvel(k) for k in range(steps-3) ]\n",
        "fig = go.Figure()\n",
        "fig.add_scatter(x=timesM, y=angvx, name=r'$v_x$')\n",
        "timesM = np.array(times)/60/60/24/30\n",
        "fig.update_layout(\n",
        "    title=\"angular oscillation frequency of the orbital vector\",\n",
        "    xaxis_title=\"X Axis Title\",\n",
        "    yaxis_title=\"Y Axis Title\"\n",
        ")"
      ],
      "execution_count": null,
      "outputs": []
    },
    {
      "cell_type": "code",
      "metadata": {
        "id": "35vXWIQ1e14g"
      },
      "source": [
        "def angaccel(k):\n",
        "  return (angvel(k+1)-angvel(k))/(times[k+1]-times[k])"
      ],
      "execution_count": null,
      "outputs": []
    },
    {
      "cell_type": "code",
      "metadata": {
        "id": "_Zw0nynxTiXB"
      },
      "source": [
        "#@title **Angular Acceleration of the orbit vector** { display-mode: \"form\" }\n",
        "# angular acceleration of the orb vec\n",
        "\n",
        "angvx = [ angaccel(k) for k in range(steps-4) ]\n",
        "fig = go.Figure()\n",
        "fig.add_scatter(x=timesM, y=angvx, name=r'$v_x$')\n",
        "timesM = np.array(times)/60/60/24/30\n",
        "fig.update_layout(\n",
        "    title=\"angular acceleration of the orbit vector\",\n",
        "    xaxis_title=\"time (month)\",\n",
        "    yaxis_title=\"angular acceleration (rad/s^2)\"\n",
        ")"
      ],
      "execution_count": null,
      "outputs": []
    },
    {
      "cell_type": "code",
      "metadata": {
        "id": "DHv9sdLue4jk"
      },
      "source": [
        "def F(t):\n",
        "  #F = mv^2/r\n",
        "  m = 7.346e22\n",
        "  v = (lightTimes[t+1]*3e8-lightTimes[t]*3e8)/(times[t+1]-times[t])\n",
        "  r = lightTimes[t]*(3e8)\n",
        "  return (m*(v**2))/r"
      ],
      "execution_count": null,
      "outputs": []
    },
    {
      "cell_type": "code",
      "metadata": {
        "id": "OIOkBzoFTmQy"
      },
      "source": [
        "#@title **centripetal force** { display-mode: \"form\" }\n",
        "force = [ F(k) for k in range(steps-1) ]\n",
        "fig = go.Figure()\n",
        "fig.add_scatter(x=timesM, y=force, name=r'$\\dot{r}$)$')\n",
        "timesM = np.array(times)/60/60/24/30\n",
        "fig.update_layout(\n",
        "\n",
        "    title=\"Force\",\n",
        "    xaxis_title=\"time (month)\",\n",
        "    yaxis_title=\"Force (N)\"\n",
        ")"
      ],
      "execution_count": null,
      "outputs": []
    },
    {
      "cell_type": "code",
      "metadata": {
        "id": "FAzFUhMCSoRT"
      },
      "source": [
        "#@title **3D planeq vector**{ display-mode: \"form\" }\n",
        "# create a 3D line plot that follows the tip of planeq vector...\n",
        "a = [planeq(k) for k in range(steps-1)]\n",
        "ax = [a[n][0] for n in range(steps-1)]\n",
        "ay = [a[n][1] for n in range(steps-1)]\n",
        "az = [a[n][2] for n in range(steps-1)]\n",
        "fig = go.Figure()\n",
        "n = steps-2\n",
        "fig.add_trace(go.Scatter3d(x = ax, y= ay, z = az, mode='lines'))\n",
        "fig.update_layout(showlegend=False)\n",
        "fig.update_layout(\n",
        "    title = \"Orbital Plane Vector\",\n",
        "    xaxis_title=\"time (min)\",\n",
        "    yaxis_title=\"acceleration (rad/s^2)\"\n",
        ")\n",
        "fig.show()"
      ],
      "execution_count": null,
      "outputs": []
    },
    {
      "cell_type": "code",
      "metadata": {
        "id": "2JFbPiZ-OoIy"
      },
      "source": [
        "def f(t):\n",
        "  #F = GMM/R^2\n",
        "  G = 6.67408e-11  #m3 kg-1 s-2\n",
        "  M = 5.972e24\n",
        "  m = 7.346e22\n",
        "  R = lightTimes[t]*(3e8)\n",
        "  return (m*M*G)/(R**2)"
      ],
      "execution_count": null,
      "outputs": []
    },
    {
      "cell_type": "code",
      "metadata": {
        "id": "KiLN5J4QRBJK"
      },
      "source": [
        "#@title **Force** { display-mode: \"form\" }\n",
        "force = [ f(k) for k in range(steps-1) ]\n",
        "fig = go.Figure()\n",
        "fig.add_scatter(x=timesM, y=force, name=r'$\\dot{r}$)$')\n",
        "timesM = np.array(times)/60/60/24/30\n",
        "fig.update_layout(\n",
        "    title=\"Force\",\n",
        "    xaxis_title=\"time (month)\",\n",
        "    yaxis_title=\"Force (N)\"\n",
        ")"
      ],
      "execution_count": null,
      "outputs": []
    },
    {
      "cell_type": "code",
      "metadata": {
        "id": "VlJUSxo_e6UW"
      },
      "source": [
        "def dr(t):\n",
        "  return (lightTimes[t+1]*3e8-lightTimes[t]*3e8)/(times[t+1]-times[t])"
      ],
      "execution_count": null,
      "outputs": []
    },
    {
      "cell_type": "code",
      "metadata": {
        "id": "9PuYQyaaToLl"
      },
      "source": [
        "#@title **derivative of the radius of the orbit** { display-mode: \"form\" }\n",
        "angvx = [ dr(k) for k in range(steps-1) ]\n",
        "fig = go.Figure()\n",
        "fig.add_scatter(x=timesM, y=angvx, name=r'$\\dot{r}$)$')\n",
        "timesM = np.array(times)/60/60/24/30\n",
        "fig.update_layout(\n",
        "    title=\"derivative of the radius of the orbit\",\n",
        "    xaxis_title=\"X Axis Title\",\n",
        "    yaxis_title=\"Y Axis Title\"\n",
        ")"
      ],
      "execution_count": null,
      "outputs": []
    },
    {
      "cell_type": "code",
      "metadata": {
        "id": "iY0Bzg5se8kY"
      },
      "source": [
        "def ddr(b):\n",
        "  return (dr(b+1)-dr(b))/(times[b+1]-times[b])"
      ],
      "execution_count": null,
      "outputs": []
    },
    {
      "cell_type": "code",
      "metadata": {
        "id": "gpY3WXbNTp9S"
      },
      "source": [
        "#@title **ddr** { display-mode: \"form\" }\n",
        "ddrvx = [ ddr(k) for k in range(steps-2) ]\n",
        "fig = go.Figure()\n",
        "fig.add_scatter(x=timesM, y=ddrvx, name=r'$\\ddot{r}$')\n",
        "timesM = np.array(times)/60/60/24/30\n",
        "fig.update_layout(\n",
        "    title=\"ddr\",\n",
        "    xaxis_title=\"X Axis Title\",\n",
        "    yaxis_title=\"Y Axis Title\"\n",
        ")"
      ],
      "execution_count": null,
      "outputs": []
    },
    {
      "cell_type": "markdown",
      "metadata": {
        "id": "kUTuRNHZHBSQ"
      },
      "source": [
        "<hr size=3 color=#8D84B5 align=\"left\"> </hr> \n",
        "\n",
        "\n",
        "### <font color = #667495 face=\"Gill Sans\"> *References*</font>\n",
        "<hr size=2 color=#8D84B5 width=30% align=\"left\"> </hr> \n",
        "\n",
        "1. Acton, C.H.; \"Ancillary Data Services of NASA's Navigation and Ancillary Information Facility;\" Planetary and Space Science, Vol. 44, No. 1, pp. 65-70, 1996.\n",
        "\n",
        "2. Charles Acton, Nathaniel Bachman, Boris Semenov, Edward Wright; A look toward the future in the handling of space science mission geometry; Planetary and Space Science (2017); \n",
        "DOI 10.1016/j.pss.2017.02.013\n",
        "https://doi.org/10.1016/j.pss.2017.02.013\n"
      ]
    },
    {
      "cell_type": "code",
      "metadata": {
        "id": "OLQQLG-9eG68"
      },
      "source": [
        ""
      ],
      "execution_count": null,
      "outputs": []
    }
  ]
}